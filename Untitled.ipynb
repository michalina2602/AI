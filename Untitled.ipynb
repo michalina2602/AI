{
 "cells": [
  {
   "cell_type": "code",
   "execution_count": 9,
   "metadata": {},
   "outputs": [
    {
     "data": {
      "image/png": "[encoded data removed]",
      "text/plain": [
       "<matplotlib.figure.Figure at 0x7f65447517b8>"
      ]
     },
     "metadata": {},
     "output_type": "display_data"
    },
    {
     "name": "stdout",
     "output_type": "stream",
     "text": [
      "44100\n"
     ]
    }
   ],
   "source": [
    "import matplotlib.pyplot as plt\n",
    "from scipy.io import wavfile as wav\n",
    "rate, data = wav.read('266800_24_K_10_1.wav')\n",
    "%matplotlib inline\n",
    "plt.plot(data)\n",
    "plt.show()\n",
    "print(rate) "
   ]
  },
  {
   "cell_type": "code",
   "execution_count": 6,
   "metadata": {},
   "outputs": [
    {
     "name": "stdout",
     "output_type": "stream",
     "text": [
      "0.883428\t1.742653\tZAPAL\n",
      "2.686590\t3.727341\tSWIATLO\n",
      "4.840702\t5.445790\tW\n",
      "6.631762\t7.285256\tKUCHNI\n",
      "8.797976\t9.657200\tOTWORZ\n",
      "10.843172\t11.508769\tDRZWI\n",
      "13.106201\t13.529762\tDO\n",
      "14.909362\t15.574959\tGARAZU\n",
      "17.378120\t18.019513\tWLACZ\n",
      "19.181281\t20.343050\tZMYWARKE\n",
      "21.613734\t22.351941\tWYLACZ\n",
      "23.586320\t24.554461\tTELEWIZOR\n",
      "25.837247\t26.672268\tPODNIES\n",
      "27.858240\t28.741668\tROLETY\n",
      "30.036556\t30.569033\tW\n",
      "31.779208\t32.819959\tSYPIALNI\n",
      "34.393187\t35.373430\tZAMKNIJ\n",
      "36.486791\t37.200795\tBRAME\n",
      "38.653005\t39.621145\tZWIEKSZ\n",
      "40.758710\t41.799461\tOGRZEWANIE\n",
      "43.324282\t43.735742\tO\n",
      "45.030630\t45.793040\tJEDEN\n",
      "46.906402\t47.753525\tSTOPIEN\n",
      "49.508279\t50.391707\tZAKREC\n",
      "50.875778\t51.698697\tWODE\n",
      "52.787855\t53.271925\tW\n",
      "54.445795\t55.401834\tLAZIENCE\n",
      "56.636213\t57.350216\tUSTAW\n",
      "58.645104\t59.371209\tALARM\n",
      "60.859725\t61.634238\tPRZYCISZ\n",
      "62.917024\t63.703638\tRADIO\n",
      "65.264764\t66.063480\tZMIEN\n",
      "67.297859\t67.975557\tKANAL\n",
      "69.282547\t70.020754\tPODLEJ\n",
      "71.073606\t71.932831\tKWIATKI\n",
      "73.324533\t74.159554\tZAPARZ\n",
      "75.297119\t76.023224\tKAWE\n",
      "77.535944\t78.334659\tWYLACZ\n",
      "79.351207\t80.065210\tALARM\n",
      "81.263284\t81.723151\tW\n",
      "82.909123\t83.647330\tGARAZU\n",
      "84.990625\t85.849849\tZAGOTUJ\n",
      "87.168940\t87.846639\tWODE\n",
      "\n"
     ]
    }
   ],
   "source": [
    "f = open('266800_24_K_10_1.txt','r')\n",
    "message = f.read()\n",
    "print(message)\n",
    "f.close()"
   ]
  },
  {
   "cell_type": "code",
   "execution_count": 21,
   "metadata": {},
   "outputs": [],
   "source": [
    "import csv\n",
    "\n",
    "file_to_read_from = '266800_24_K_10_1.txt'\n",
    "\n",
    "#initializing as many lists as the columns you want (not all)\n",
    "col1, col2, col3 = [], [], []\n",
    "with open(file_to_read_from, 'r') as file_in:\n",
    "    reader = csv.reader(file_in, delimiter='\\t') #might as well be ',', '\\t' etc\n",
    "    for row in reader:\n",
    "        col1.append(row[0]) # assuming col 1 in the file is one of the 3 you want\n",
    "        col2.append(row[0]) # assuming col 4 in the file is one of the 3 you want\n",
    "        col3.append(row[0]) # assuming col 6 in the file is one of the 3 you want"
   ]
  },
  {
   "cell_type": "code",
   "execution_count": 25,
   "metadata": {},
   "outputs": [
    {
     "ename": "NameError",
     "evalue": "name 'ZAPAL' is not defined",
     "output_type": "error",
     "traceback": [
      "\u001b[0;31m---------------------------------------------------------------------------\u001b[0m",
      "\u001b[0;31mNameError\u001b[0m                                 Traceback (most recent call last)",
      "\u001b[0;32m<ipython-input-25-14160a5f8d18>\u001b[0m in \u001b[0;36m<module>\u001b[0;34m()\u001b[0m\n\u001b[1;32m      1\u001b[0m \u001b[0;32mimport\u001b[0m \u001b[0mpandas\u001b[0m\u001b[0;34m\u001b[0m\u001b[0m\n\u001b[1;32m      2\u001b[0m \u001b[0mtest\u001b[0m \u001b[0;34m=\u001b[0m \u001b[0mpandas\u001b[0m\u001b[0;34m.\u001b[0m\u001b[0mread_csv\u001b[0m\u001b[0;34m(\u001b[0m\u001b[0;34m'266800_24_K_10_1.txt'\u001b[0m\u001b[0;34m)\u001b[0m\u001b[0;34m\u001b[0m\u001b[0m\n\u001b[0;32m----> 3\u001b[0;31m \u001b[0myour_Variable\u001b[0m \u001b[0;34m=\u001b[0m \u001b[0mtest\u001b[0m\u001b[0;34m[\u001b[0m\u001b[0mZAPAL\u001b[0m\u001b[0;34m]\u001b[0m\u001b[0;34m\u001b[0m\u001b[0m\n\u001b[0m\u001b[1;32m      4\u001b[0m \u001b[0mprint\u001b[0m\u001b[0;34m(\u001b[0m\u001b[0myour_Variable\u001b[0m\u001b[0;34m)\u001b[0m\u001b[0;34m\u001b[0m\u001b[0m\n",
      "\u001b[0;31mNameError\u001b[0m: name 'ZAPAL' is not defined"
     ]
    }
   ],
   "source": [
    "import pandas\n",
    "test = pandas.read_csv('266800_24_K_10_1.txt')\n",
    "your_Variable = test[ZAPAL]\n",
    "print(your_Variable)"
   ]
  },
  {
   "cell_type": "code",
   "execution_count": 37,
   "metadata": {},
   "outputs": [
    {
     "name": "stdout",
     "output_type": "stream",
     "text": [
      "1.742653\n",
      "3.727341\n",
      "5.445790\n",
      "7.285256\n",
      "9.657200\n",
      "11.508769\n",
      "13.529762\n",
      "15.574959\n",
      "18.019513\n",
      "20.343050\n",
      "22.351941\n",
      "24.554461\n",
      "26.672268\n",
      "28.741668\n",
      "30.569033\n",
      "32.819959\n",
      "35.373430\n",
      "37.200795\n",
      "39.621145\n",
      "41.799461\n",
      "43.735742\n",
      "45.793040\n",
      "47.753525\n",
      "50.391707\n",
      "51.698697\n",
      "53.271925\n",
      "55.401834\n",
      "57.350216\n",
      "59.371209\n",
      "61.634238\n",
      "63.703638\n",
      "66.063480\n",
      "67.975557\n",
      "70.020754\n",
      "71.932831\n",
      "74.159554\n",
      "76.023224\n",
      "78.334659\n",
      "80.065210\n",
      "81.723151\n",
      "83.647330\n",
      "85.849849\n",
      "87.846639\n"
     ]
    }
   ],
   "source": [
    "with open('266800_24_K_10_1.txt') as infile:\n",
    "    for line in infile:\n",
    "        print(line.split()[1])\n",
    "\n",
    "        "
   ]
  },
  {
   "cell_type": "code",
   "execution_count": null,
   "metadata": {
    "collapsed": true
   },
   "outputs": [],
   "source": []
  }
 ],
 "metadata": {
  "kernelspec": {
   "display_name": "Python 3",
   "language": "python",
   "name": "python3"
  },
  "language_info": {
   "codemirror_mode": {
    "name": "ipython",
    "version": 3
   },
   "file_extension": ".py",
   "mimetype": "text/x-python",
   "name": "python",
   "nbconvert_exporter": "python",
   "pygments_lexer": "ipython3",
   "version": "3.6.3"
  }
 },
 "nbformat": 4,
 "nbformat_minor": 2
}
